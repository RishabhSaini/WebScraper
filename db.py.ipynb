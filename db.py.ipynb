{
 "cells": [
  {
   "cell_type": "code",
   "execution_count": 10,
   "metadata": {},
   "outputs": [],
   "source": [
    "import datetime\n",
    "import pymongo"
   ]
  },
  {
   "cell_type": "code",
   "execution_count": 11,
   "metadata": {},
   "outputs": [],
   "source": [
    "client = pymongo.MongoClient(\"mongodb://localhost:27017/\")\n",
    "db = client[\"amazon\"]"
   ]
  },
  {
   "cell_type": "code",
   "execution_count": 12,
   "metadata": {},
   "outputs": [
    {
     "data": {
      "text/plain": [
       "{'asin': 'B07B4L1PQ8',\n",
       " 'details': [{'name': 'Nokia 8.1 (Iron, 4GB RAM, 64GB Storage)',\n",
       "   'price': 19139.0,\n",
       "   'deal': False,\n",
       "   'url': 'https://www.amazon.in/dp/B077Q42J32',\n",
       "   'date': datetime.datetime(2019, 8, 7, 9, 51, 35, 648000)},\n",
       "  {'name': 'Nokia 8.1 (Iron, 4GB RAM, 64GB Storage)',\n",
       "   'price': 19029.0,\n",
       "   'deal': False,\n",
       "   'url': 'https://www.amazon.in/dp/B077Q42J32',\n",
       "   'date': datetime.datetime(2019, 8, 8, 16, 23, 38, 749000)},\n",
       "  {'name': 'Nokia 8.1 (Iron, 4GB RAM, 64GB Storage)',\n",
       "   'price': 19028.0,\n",
       "   'deal': False,\n",
       "   'url': 'https://www.amazon.in/dp/B077Q42J32',\n",
       "   'date': datetime.datetime(2019, 8, 8, 17, 18, 26, 461000)}]}"
      ]
     },
     "execution_count": 12,
     "metadata": {},
     "output_type": "execute_result"
    }
   ],
   "source": [
    "{\n",
    "    'asin': 'B07B4L1PQ8', \n",
    "    'details': [\n",
    "        {\n",
    "            'name': 'Nokia 8.1 (Iron, 4GB RAM, 64GB Storage)', \n",
    "            'price': 19139.0, \n",
    "            'deal': False, \n",
    "            'url': 'https://www.amazon.in/dp/B077Q42J32', \n",
    "            'date': datetime.datetime(2019, 8, 7, 9, 51, 35, 648000)\n",
    "        }, \n",
    "        {\n",
    "            'name': 'Nokia 8.1 (Iron, 4GB RAM, 64GB Storage)', \n",
    "            'price': 19029.0, \n",
    "            'deal': False, \n",
    "            'url': 'https://www.amazon.in/dp/B077Q42J32', \n",
    "            'date': datetime.datetime(2019, 8, 8, 16, 23, 38, 749000)\n",
    "        }, \n",
    "        {\n",
    "            'name': 'Nokia 8.1 (Iron, 4GB RAM, 64GB Storage)', \n",
    "            'price': 19028.0,\n",
    "            'deal': False, \n",
    "            'url': 'https://www.amazon.in/dp/B077Q42J32', \n",
    "            'date': datetime.datetime(2019, 8, 8, 17, 18, 26, 461000)\n",
    "        }\n",
    "    ]\n",
    "}"
   ]
  },
  {
   "cell_type": "code",
   "execution_count": 13,
   "metadata": {},
   "outputs": [],
   "source": [
    "def add_product_detail(details):\n",
    "\n",
    "    new = db[\"products\"]\n",
    "    ASIN = details[\"url\"][len(details[\"url\"])-10:len(details[\"url\"])]\n",
    "    details[\"date\"] = datetime.datetime.utcnow()\n",
    "\n",
    "    try:\n",
    "        new.update_one(\n",
    "            {\n",
    "                \"asin\":ASIN\n",
    "            }, \n",
    "            {\n",
    "                \"$set\": {\n",
    "                    \"asin\":ASIN\n",
    "                }, \n",
    "                \"$push\":{\n",
    "                    \"details\":details\n",
    "                }\n",
    "            }, \n",
    "            upsert=True\n",
    "        )\n",
    "        return True\n",
    "    except Exception as identifier:\n",
    "        print(identifier)\n",
    "        return False"
   ]
  },
  {
   "cell_type": "code",
   "execution_count": 14,
   "metadata": {},
   "outputs": [],
   "source": [
    "def get_product_history(asin):\n",
    "\n",
    "    new = db[\"products\"]\n",
    "    try:\n",
    "        find = new.find_one({\"asin\": asin}, {\"_id\": 0})\n",
    "        if find:\n",
    "            return find\n",
    "    except Exception as identifier:\n",
    "        print(identifier)\n",
    "        return None"
   ]
  },
  {
   "cell_type": "code",
   "execution_count": null,
   "metadata": {},
   "outputs": [],
   "source": []
  },
  {
   "cell_type": "code",
   "execution_count": null,
   "metadata": {},
   "outputs": [],
   "source": []
  }
 ],
 "metadata": {
  "kernelspec": {
   "display_name": "Python 3",
   "language": "python",
   "name": "python3"
  },
  "language_info": {
   "codemirror_mode": {
    "name": "ipython",
    "version": 3
   },
   "file_extension": ".py",
   "mimetype": "text/x-python",
   "name": "python",
   "nbconvert_exporter": "python",
   "pygments_lexer": "ipython3",
   "version": "3.7.4"
  }
 },
 "nbformat": 4,
 "nbformat_minor": 2
}
